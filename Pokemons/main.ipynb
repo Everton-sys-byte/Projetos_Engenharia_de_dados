{
 "cells": [
  {
   "cell_type": "code",
   "execution_count": 17,
   "metadata": {},
   "outputs": [],
   "source": [
    "import requests\n",
    "import datetime\n",
    "import json"
   ]
  },
  {
   "cell_type": "code",
   "execution_count": 18,
   "metadata": {},
   "outputs": [],
   "source": [
    "class Collector:\n",
    "\n",
    "    def __init__(self, url) -> None:\n",
    "        self.url = url\n",
    "        # instancia é o final do meu endpoint\n",
    "        self.instance = url.strip(\"/\").split(\"/\")[-1]\n",
    "\n",
    "    # extract\n",
    "    def get_endpoint(self, **kwargs):\n",
    "        response = requests.get(self.url, params=kwargs)\n",
    "        return response\n",
    "\n",
    "    # ingestion\n",
    "    def save_data(self, data):\n",
    "        now = datetime.datetime.now().strftime(\"%Y%m%d_%H%M%S.%f\")\n",
    "        data['ingestion_date'] = datetime.datetime.now().strftime(\"%Y-%m-%d %H:%M%S\")\n",
    "        file_name = f\"./datalake/pokemon/{self.instance}/{now}.json\"\n",
    "        with open(file_name, \"w\") as opened_file:\n",
    "            json.dump(data, opened_file)\n",
    "\n",
    "    def get_and_save(self, **kwargs):\n",
    "        resp = self.get_endpoint(**kwargs)\n",
    "        if(resp.status_code == 200):\n",
    "            data = resp.json()\n",
    "            self.save_data(data)\n",
    "            return data\n",
    "        else:\n",
    "            return {}\n",
    "        \n",
    "    def auto_exec(self, limit=100):\n",
    "        offset = 0\n",
    "        while True:\n",
    "            print(offset)\n",
    "            data = self.get_and_save(limit=limit, offset = offset)\n",
    "\n",
    "            # caso não tenha próxima pagina na API, sai do loop\n",
    "            if(data[\"next\"]) == None:\n",
    "                break\n",
    "            else:\n",
    "                offset += limit\n"
   ]
  },
  {
   "cell_type": "code",
   "execution_count": 19,
   "metadata": {},
   "outputs": [
    {
     "name": "stdout",
     "output_type": "stream",
     "text": [
      "0\n",
      "100\n",
      "200\n",
      "300\n",
      "400\n",
      "500\n",
      "600\n",
      "700\n",
      "800\n",
      "900\n",
      "1000\n",
      "1100\n",
      "1200\n",
      "1300\n"
     ]
    }
   ],
   "source": [
    "url = \"https://pokeapi.co/api/v2/pokemon\"\n",
    "collector = Collector(url)\n",
    "collector.auto_exec()"
   ]
  },
  {
   "cell_type": "markdown",
   "metadata": {},
   "source": [
    "Spark"
   ]
  },
  {
   "cell_type": "code",
   "execution_count": 26,
   "metadata": {},
   "outputs": [
    {
     "name": "stdout",
     "output_type": "stream",
     "text": [
      "+-----+------------------+--------------------+--------------------+--------------------+\n",
      "|count|    ingestion_date|                next|            previous|             results|\n",
      "+-----+------------------+--------------------+--------------------+--------------------+\n",
      "| 1302|2024-09-28 18:5431|https://pokeapi.c...|https://pokeapi.c...|[{darumaka-galar,...|\n",
      "| 1302|2024-09-28 18:5430|https://pokeapi.c...|https://pokeapi.c...|[{metagross-mega,...|\n",
      "| 1302|2024-09-28 18:5430|https://pokeapi.c...|https://pokeapi.c...|[{wo-chien, https...|\n",
      "| 1302|2024-09-28 18:5430|https://pokeapi.c...|https://pokeapi.c...|[{ursaluna, https...|\n",
      "| 1302|2024-09-28 18:5429|https://pokeapi.c...|https://pokeapi.c...|[{magearna, https...|\n",
      "| 1302|2024-09-28 18:5429|https://pokeapi.c...|https://pokeapi.c...|[{hawlucha, https...|\n",
      "| 1302|2024-09-28 18:5428|https://pokeapi.c...|https://pokeapi.c...|[{klinklang, http...|\n",
      "| 1302|2024-09-28 18:5428|https://pokeapi.c...|https://pokeapi.c...|[{oshawott, https...|\n",
      "| 1302|2024-09-28 18:5428|https://pokeapi.c...|https://pokeapi.c...|[{kricketot, http...|\n",
      "| 1302|2024-09-28 18:5427|https://pokeapi.c...|https://pokeapi.c...|[{unown, https://...|\n",
      "| 1302|2024-09-28 18:5427|https://pokeapi.c...|https://pokeapi.c...|[{electrode, http...|\n",
      "| 1302|2024-09-28 18:5427|https://pokeapi.c...|https://pokeapi.c...|[{delcatty, https...|\n",
      "| 1302|2024-09-28 18:5426|https://pokeapi.c...|                NULL|[{bulbasaur, http...|\n",
      "| 1302|2024-09-28 18:5431|                NULL|https://pokeapi.c...|[{terapagos-teras...|\n",
      "+-----+------------------+--------------------+--------------------+--------------------+\n",
      "\n"
     ]
    }
   ],
   "source": [
    "from pyspark.sql import SparkSession\n",
    "\n",
    "# Iniciar uma SparkSession\n",
    "spark = SparkSession.builder \\\n",
    "    .appName(\"Pokemon\") \\\n",
    "    .getOrCreate()\n",
    "\n",
    "# Motra a tabela como o Pandas faz\n",
    "spark.conf.set('spark.sql.repl.eagerEval.enabled', True)\n",
    "\n",
    "df = spark.read.json('./datalake/pokemon/pokemon')\n",
    "\n",
    "df.show()"
   ]
  },
  {
   "cell_type": "code",
   "execution_count": 27,
   "metadata": {},
   "outputs": [
    {
     "name": "stdout",
     "output_type": "stream",
     "text": [
      "+-----+------------------+--------------------+\n",
      "|count|    ingestion_date|             pokemon|\n",
      "+-----+------------------+--------------------+\n",
      "| 1302|2024-09-28 18:5431|{darumaka-galar, ...|\n",
      "| 1302|2024-09-28 18:5431|{darmanitan-galar...|\n",
      "| 1302|2024-09-28 18:5431|{darmanitan-galar...|\n",
      "| 1302|2024-09-28 18:5431|{yamask-galar, ht...|\n",
      "| 1302|2024-09-28 18:5431|{stunfisk-galar, ...|\n",
      "| 1302|2024-09-28 18:5431|{zygarde-10, http...|\n",
      "| 1302|2024-09-28 18:5431|{cramorant-gulpin...|\n",
      "| 1302|2024-09-28 18:5431|{cramorant-gorgin...|\n",
      "| 1302|2024-09-28 18:5431|{toxtricity-low-k...|\n",
      "| 1302|2024-09-28 18:5431|{eiscue-noice, ht...|\n",
      "| 1302|2024-09-28 18:5431|{indeedee-female,...|\n",
      "| 1302|2024-09-28 18:5431|{morpeko-hangry, ...|\n",
      "| 1302|2024-09-28 18:5431|{zacian-crowned, ...|\n",
      "| 1302|2024-09-28 18:5431|{zamazenta-crowne...|\n",
      "| 1302|2024-09-28 18:5431|{eternatus-eterna...|\n",
      "| 1302|2024-09-28 18:5431|{urshifu-rapid-st...|\n",
      "| 1302|2024-09-28 18:5431|{zarude-dada, htt...|\n",
      "| 1302|2024-09-28 18:5431|{calyrex-ice, htt...|\n",
      "| 1302|2024-09-28 18:5431|{calyrex-shadow, ...|\n",
      "| 1302|2024-09-28 18:5431|{venusaur-gmax, h...|\n",
      "+-----+------------------+--------------------+\n",
      "only showing top 20 rows\n",
      "\n"
     ]
    }
   ],
   "source": [
    "# cria uma view temporária chamada pokemon, deixando eu fazer query sql aqui dentro\n",
    "df = df.createOrReplaceTempView(\"pokemon\")\n",
    "\n",
    "# query sql | trabalhando com colunas específicas\n",
    "query = \"SELECT count, ingestion_date, explode(results) as pokemon FROM pokemon\"\n",
    "\n",
    "result = spark.sql(query)\n",
    "\n",
    "result.show()"
   ]
  },
  {
   "cell_type": "markdown",
   "metadata": {},
   "source": [
    "Só Pokemons"
   ]
  }
 ],
 "metadata": {
  "kernelspec": {
   "display_name": "base",
   "language": "python",
   "name": "python3"
  },
  "language_info": {
   "codemirror_mode": {
    "name": "ipython",
    "version": 3
   },
   "file_extension": ".py",
   "mimetype": "text/x-python",
   "name": "python",
   "nbconvert_exporter": "python",
   "pygments_lexer": "ipython3",
   "version": "3.11.7"
  }
 },
 "nbformat": 4,
 "nbformat_minor": 2
}
