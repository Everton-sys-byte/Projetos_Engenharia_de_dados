{
 "cells": [
  {
   "cell_type": "code",
   "execution_count": 31,
   "metadata": {},
   "outputs": [
    {
     "data": {
      "text/plain": [
       "True"
      ]
     },
     "execution_count": 31,
     "metadata": {},
     "output_type": "execute_result"
    }
   ],
   "source": [
    "import os\n",
    "from dotenv import load_dotenv\n",
    "import boto3\n",
    "\n",
    "# carrega o arquivo .env\n",
    "load_dotenv()"
   ]
  },
  {
   "cell_type": "code",
   "execution_count": 32,
   "metadata": {},
   "outputs": [],
   "source": [
    "class Amazon:\n",
    "\n",
    "    def __init__(self, aws_key_id, aws_secret_key ) -> None:\n",
    "        self.aws_key_id = aws_key_id\n",
    "        self.aws_secret_key = aws_secret_key\n",
    "\n",
    "    def getAwsSession(self):\n",
    "        session = boto3.Session(aws_access_key_id=self.aws_key_id, aws_secret_access_key=self.aws_secret_key, region_name='us-east-2')\n",
    "        return session\n",
    "    \n",
    "    def getS3Client(self):\n",
    "        session = self.getAwsSession()\n",
    "        s3 = session.client('s3')\n",
    "        return s3\n",
    "    \n",
    "    def listObjectsFromBucket(self, bucket_name):\n",
    "        s3 = self.getS3Client()\n",
    "        response = s3.list_objects_v2(Bucket=bucket_name)\n",
    "        return response\n",
    "    \n",
    "    def downloadS3File(self, bucket_name, file_name, save_as):\n",
    "        s3 = self.getS3Client()\n",
    "        s3.download_file(bucket_name, file_name, save_as)\n",
    "\n",
    "    def uploadFile(self, bucket_name, file_name, s3_filename):\n",
    "        s3 = self.getS3Client()\n",
    "        s3.Bucket(bucket_name).upload_file(file_name, s3_filename)\n"
   ]
  },
  {
   "cell_type": "markdown",
   "metadata": {},
   "source": [
    "Inicia a sessão na amazon"
   ]
  },
  {
   "cell_type": "code",
   "execution_count": 33,
   "metadata": {},
   "outputs": [],
   "source": [
    "am = Amazon( os.getenv('AWS_KEY_ID') ,os.getenv('AWS_SECRET_KEY'))\n",
    "s3 = am.getS3Client()"
   ]
  },
  {
   "cell_type": "markdown",
   "metadata": {},
   "source": [
    "Lista todos os arquivos que estão em determinado Bucket no S3"
   ]
  },
  {
   "cell_type": "code",
   "execution_count": 34,
   "metadata": {},
   "outputs": [
    {
     "name": "stdout",
     "output_type": "stream",
     "text": [
      "File: AthenaResults/\n",
      "File: AthenaResults/Unsaved/2024/06/08/0b32108c-4de5-4c07-bff7-491c1ffb5889.csv\n",
      "File: AthenaResults/Unsaved/2024/06/08/0b32108c-4de5-4c07-bff7-491c1ffb5889.csv.metadata\n",
      "File: AthenaResults/Unsaved/2024/06/08/0c068477-ee59-4366-bb08-d41f6c2990c1.csv\n",
      "File: AthenaResults/Unsaved/2024/06/08/0c068477-ee59-4366-bb08-d41f6c2990c1.csv.metadata\n",
      "File: AthenaResults/Unsaved/2024/06/08/1b690d3a-256a-45e0-849e-98d64b6a9ea2.csv\n",
      "File: AthenaResults/Unsaved/2024/06/08/1b690d3a-256a-45e0-849e-98d64b6a9ea2.csv.metadata\n",
      "File: AthenaResults/Unsaved/2024/06/08/1f31f8fd-f28d-4931-a22b-79a7220992a7.txt\n",
      "File: AthenaResults/Unsaved/2024/06/08/1f31f8fd-f28d-4931-a22b-79a7220992a7.txt.metadata\n",
      "File: AthenaResults/Unsaved/2024/06/08/21502ced-fe4b-44a6-a465-2b83b8726527.csv\n",
      "File: AthenaResults/Unsaved/2024/06/08/21502ced-fe4b-44a6-a465-2b83b8726527.csv.metadata\n",
      "File: AthenaResults/Unsaved/2024/06/08/21ed8395-8045-4d8c-b7f4-947c07c0e6b8.csv\n",
      "File: AthenaResults/Unsaved/2024/06/08/21ed8395-8045-4d8c-b7f4-947c07c0e6b8.csv.metadata\n",
      "File: AthenaResults/Unsaved/2024/06/08/4cac7bdd-3938-4213-82d0-ac7319def59d.csv\n",
      "File: AthenaResults/Unsaved/2024/06/08/4cac7bdd-3938-4213-82d0-ac7319def59d.csv.metadata\n",
      "File: AthenaResults/Unsaved/2024/06/08/63e501b6-5f26-41ff-92c4-921e079d70d3.csv\n",
      "File: AthenaResults/Unsaved/2024/06/08/63e501b6-5f26-41ff-92c4-921e079d70d3.csv.metadata\n",
      "File: AthenaResults/Unsaved/2024/06/08/95925a44-f099-4231-b9a5-90ba89137bcb.csv\n",
      "File: AthenaResults/Unsaved/2024/06/08/95925a44-f099-4231-b9a5-90ba89137bcb.csv.metadata\n",
      "File: AthenaResults/Unsaved/2024/06/08/a4ac6bf5-6240-4c76-bfb3-30d8a847ee7a.csv\n",
      "File: AthenaResults/Unsaved/2024/06/08/a4ac6bf5-6240-4c76-bfb3-30d8a847ee7a.csv.metadata\n",
      "File: AthenaResults/Unsaved/2024/06/08/b3d235cc-ab56-4f91-bebe-bc02a20262ad.csv\n",
      "File: AthenaResults/Unsaved/2024/06/08/b3d235cc-ab56-4f91-bebe-bc02a20262ad.csv.metadata\n",
      "File: AthenaResults/Unsaved/2024/06/08/b7dd132a-ced6-4e8a-be24-0e650e20884f.csv\n",
      "File: AthenaResults/Unsaved/2024/06/08/b7dd132a-ced6-4e8a-be24-0e650e20884f.csv.metadata\n",
      "File: AthenaResults/Unsaved/2024/06/08/bdafd3b7-1ea5-4759-98b9-f7a6d38b86a2.csv\n",
      "File: AthenaResults/Unsaved/2024/06/08/bdafd3b7-1ea5-4759-98b9-f7a6d38b86a2.csv.metadata\n",
      "File: AthenaResults/Unsaved/2024/06/08/bfd27aa0-13e3-45bd-8789-96cec7405131.csv\n",
      "File: AthenaResults/Unsaved/2024/06/08/bfd27aa0-13e3-45bd-8789-96cec7405131.csv.metadata\n",
      "File: AthenaResults/Unsaved/2024/06/08/dc244f9d-94f7-44f3-9b54-b27f11841aeb.csv\n",
      "File: AthenaResults/Unsaved/2024/06/08/dc244f9d-94f7-44f3-9b54-b27f11841aeb.csv.metadata\n",
      "File: AthenaResults/Unsaved/2024/06/08/dec87778-b758-4dba-8719-b08d29082641.csv\n",
      "File: AthenaResults/Unsaved/2024/06/08/dec87778-b758-4dba-8719-b08d29082641.csv.metadata\n",
      "File: AthenaResults/Unsaved/2024/06/08/ec48d2c7-e729-4cb9-b277-3e59e46a3029.csv\n",
      "File: AthenaResults/Unsaved/2024/06/08/ec48d2c7-e729-4cb9-b277-3e59e46a3029.csv.metadata\n",
      "File: AthenaResults/Unsaved/2024/06/08/f0b5e9e7-6c82-4ee4-8469-6716944bd856.csv\n",
      "File: AthenaResults/Unsaved/2024/06/08/f0b5e9e7-6c82-4ee4-8469-6716944bd856.csv.metadata\n",
      "File: AthenaResults/Unsaved/2024/06/08/f12243ef-418a-4478-ad73-5d2feb2f4897.csv\n",
      "File: AthenaResults/Unsaved/2024/06/08/f12243ef-418a-4478-ad73-5d2feb2f4897.csv.metadata\n",
      "File: AthenaResults/Unsaved/2024/06/08/f6e6d36e-b3b0-4060-8b57-aa2560774f5c.csv\n",
      "File: AthenaResults/Unsaved/2024/06/08/f6e6d36e-b3b0-4060-8b57-aa2560774f5c.csv.metadata\n",
      "File: AthenaResults/Unsaved/2024/06/08/faddadd8-8737-4e54-a7f5-ea3c8a6b24c3.csv\n",
      "File: AthenaResults/Unsaved/2024/06/08/faddadd8-8737-4e54-a7f5-ea3c8a6b24c3.csv.metadata\n",
      "File: AthenaResults/Unsaved/2024/06/09/5c48f145-5ebe-4c5b-a2a7-fbf265f9cbbf.txt\n",
      "File: AthenaResults/Unsaved/2024/06/09/b865a46e-42b6-4e0e-8778-58d91e58efb7.csv\n",
      "File: AthenaResults/Unsaved/2024/06/09/b865a46e-42b6-4e0e-8778-58d91e58efb7.csv.metadata\n",
      "File: AthenaResults/Unsaved/2024/06/14/06792c6b-d23d-4bfa-a3fb-ea9fc20f915c.csv\n",
      "File: AthenaResults/Unsaved/2024/06/14/06792c6b-d23d-4bfa-a3fb-ea9fc20f915c.csv.metadata\n",
      "File: AthenaResults/Unsaved/2024/06/14/968bc626-9c39-4e38-a964-c8e588898a96.csv\n",
      "File: AthenaResults/Unsaved/2024/06/14/968bc626-9c39-4e38-a964-c8e588898a96.csv.metadata\n",
      "File: bronze/\n",
      "File: bronze/ingest/\n",
      "File: bronze/ingest/batch-person/\n",
      "File: bronze/ingest/batch-person/demoLakeData.csv\n",
      "File: bronze/ingest/real-time-ingest/\n",
      "File: gold/\n",
      "File: silver/\n"
     ]
    }
   ],
   "source": [
    "objectsFromBucket = am.listObjectsFromBucket(os.getenv('AWS_BUCKET_NAME'))\n",
    "\n",
    "# Lista todos os arquivos que estão no bucket\n",
    "if 'Contents' in objectsFromBucket:\n",
    "    for obj in objectsFromBucket['Contents']:\n",
    "        print(f\"File: {obj['Key']}\")\n",
    "else:\n",
    "    print(\"Nenhum arquivo encontrado\")"
   ]
  },
  {
   "cell_type": "markdown",
   "metadata": {},
   "source": [
    "Faz download de um arquivo no AmazonS3"
   ]
  },
  {
   "cell_type": "code",
   "execution_count": 35,
   "metadata": {},
   "outputs": [],
   "source": [
    "file_name = 'bronze/ingest/batch-person/demoLakeData.csv'\n",
    "am.downloadS3File(os.getenv('AWS_BUCKET_NAME'), file_name, 'demolake.csv')"
   ]
  }
 ],
 "metadata": {
  "kernelspec": {
   "display_name": "base",
   "language": "python",
   "name": "python3"
  },
  "language_info": {
   "codemirror_mode": {
    "name": "ipython",
    "version": 3
   },
   "file_extension": ".py",
   "mimetype": "text/x-python",
   "name": "python",
   "nbconvert_exporter": "python",
   "pygments_lexer": "ipython3",
   "version": "3.11.7"
  }
 },
 "nbformat": 4,
 "nbformat_minor": 2
}
