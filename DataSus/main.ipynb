{
 "cells": [
  {
   "cell_type": "markdown",
   "metadata": {},
   "source": [
    "Trabalhando com FTP (File Transfer Protocol)"
   ]
  },
  {
   "cell_type": "code",
   "execution_count": 64,
   "metadata": {},
   "outputs": [],
   "source": [
    "import urllib.request\n",
    "\n",
    "# mostra a progressão ao percorrer um vetor (barra de carregamento)\n",
    "from tqdm import tqdm"
   ]
  },
  {
   "cell_type": "code",
   "execution_count": 65,
   "metadata": {},
   "outputs": [],
   "source": [
    "class Collector:\n",
    "\n",
    "    def get_rdt(self, uf = 'SP', ano = '24', mes = '01'):\n",
    "        url = f\"ftp://ftp.datasus.gov.br/dissemin/publicos/SIHSUS/200801_/Dados/RD{uf}{ano}{mes}.dbc\"\n",
    "        # origem do arquivo e destino dele\n",
    "        response = urllib.request.urlretrieve(url, f\"./datalake/RD{uf}{ano}{mes}.dbc\")\n",
    "        return response\n",
    "\n",
    "    # pega arquivo por um conjunto de datas\n",
    "    def get_data_uf(self, uf, datas):\n",
    "        for i in tqdm(datas):\n",
    "            ano, mes, dia = i.split(\"-\")\n",
    "            # pega as ultimas 2 números do ano\n",
    "            ano = ano[-2:]\n",
    "            self.get_rdt(uf, ano, mes)\n",
    "    \n",
    "    "
   ]
  },
  {
   "cell_type": "code",
   "execution_count": 66,
   "metadata": {},
   "outputs": [
    {
     "name": "stderr",
     "output_type": "stream",
     "text": [
      "100%|██████████| 4/4 [00:02<00:00,  1.75it/s]\n",
      "100%|██████████| 4/4 [00:02<00:00,  1.61it/s]\n",
      "100%|██████████| 4/4 [00:02<00:00,  1.79it/s]\n",
      "100%|██████████| 4/4 [00:02<00:00,  1.57it/s]\n",
      "100%|██████████| 4/4 [00:03<00:00,  1.01it/s]\n",
      "100%|██████████| 4/4 [00:03<00:00,  1.20it/s]\n",
      "100%|██████████| 4/4 [00:02<00:00,  1.47it/s]\n",
      "100%|██████████| 4/4 [00:02<00:00,  1.43it/s]\n",
      "100%|██████████| 4/4 [00:03<00:00,  1.31it/s]\n",
      "100%|██████████| 4/4 [00:03<00:00,  1.29it/s]\n",
      "100%|██████████| 4/4 [00:02<00:00,  1.52it/s]\n",
      "100%|██████████| 4/4 [00:02<00:00,  1.53it/s]\n",
      " 25%|██▌       | 1/4 [00:02<00:07,  2.57s/it]\n"
     ]
    },
    {
     "ename": "KeyboardInterrupt",
     "evalue": "",
     "output_type": "error",
     "traceback": [
      "\u001b[0;31m---------------------------------------------------------------------------\u001b[0m",
      "\u001b[0;31mKeyboardInterrupt\u001b[0m                         Traceback (most recent call last)",
      "Cell \u001b[0;32mIn[66], line 18\u001b[0m\n\u001b[1;32m     15\u001b[0m \u001b[38;5;66;03m# response = collector.get_rdt()\u001b[39;00m\n\u001b[1;32m     17\u001b[0m \u001b[38;5;28;01mfor\u001b[39;00m uf \u001b[38;5;129;01min\u001b[39;00m ufs:\n\u001b[0;32m---> 18\u001b[0m     response \u001b[38;5;241m=\u001b[39m collector\u001b[38;5;241m.\u001b[39mget_data_uf(uf, datas)\n\u001b[1;32m     20\u001b[0m response\n",
      "Cell \u001b[0;32mIn[65], line 15\u001b[0m, in \u001b[0;36mCollector.get_data_uf\u001b[0;34m(self, uf, datas)\u001b[0m\n\u001b[1;32m     13\u001b[0m \u001b[38;5;66;03m# pega as ultimas 2 números do ano\u001b[39;00m\n\u001b[1;32m     14\u001b[0m ano \u001b[38;5;241m=\u001b[39m ano[\u001b[38;5;241m-\u001b[39m\u001b[38;5;241m2\u001b[39m:]\n\u001b[0;32m---> 15\u001b[0m \u001b[38;5;28mself\u001b[39m\u001b[38;5;241m.\u001b[39mget_rdt(uf, ano, mes)\n",
      "Cell \u001b[0;32mIn[65], line 6\u001b[0m, in \u001b[0;36mCollector.get_rdt\u001b[0;34m(self, uf, ano, mes)\u001b[0m\n\u001b[1;32m      4\u001b[0m url \u001b[38;5;241m=\u001b[39m \u001b[38;5;124mf\u001b[39m\u001b[38;5;124m\"\u001b[39m\u001b[38;5;124mftp://ftp.datasus.gov.br/dissemin/publicos/SIHSUS/200801_/Dados/RD\u001b[39m\u001b[38;5;132;01m{\u001b[39;00muf\u001b[38;5;132;01m}\u001b[39;00m\u001b[38;5;132;01m{\u001b[39;00mano\u001b[38;5;132;01m}\u001b[39;00m\u001b[38;5;132;01m{\u001b[39;00mmes\u001b[38;5;132;01m}\u001b[39;00m\u001b[38;5;124m.dbc\u001b[39m\u001b[38;5;124m\"\u001b[39m\n\u001b[1;32m      5\u001b[0m \u001b[38;5;66;03m# origem do arquivo e destino dele\u001b[39;00m\n\u001b[0;32m----> 6\u001b[0m response \u001b[38;5;241m=\u001b[39m urllib\u001b[38;5;241m.\u001b[39mrequest\u001b[38;5;241m.\u001b[39murlretrieve(url, \u001b[38;5;124mf\u001b[39m\u001b[38;5;124m\"\u001b[39m\u001b[38;5;124m./datalake/RD\u001b[39m\u001b[38;5;132;01m{\u001b[39;00muf\u001b[38;5;132;01m}\u001b[39;00m\u001b[38;5;132;01m{\u001b[39;00mano\u001b[38;5;132;01m}\u001b[39;00m\u001b[38;5;132;01m{\u001b[39;00mmes\u001b[38;5;132;01m}\u001b[39;00m\u001b[38;5;124m.dbc\u001b[39m\u001b[38;5;124m\"\u001b[39m)\n\u001b[1;32m      7\u001b[0m \u001b[38;5;28;01mreturn\u001b[39;00m response\n",
      "File \u001b[0;32m~/anaconda3/lib/python3.11/urllib/request.py:270\u001b[0m, in \u001b[0;36murlretrieve\u001b[0;34m(url, filename, reporthook, data)\u001b[0m\n\u001b[1;32m    267\u001b[0m     reporthook(blocknum, bs, size)\n\u001b[1;32m    269\u001b[0m \u001b[38;5;28;01mwhile\u001b[39;00m \u001b[38;5;28;01mTrue\u001b[39;00m:\n\u001b[0;32m--> 270\u001b[0m     block \u001b[38;5;241m=\u001b[39m fp\u001b[38;5;241m.\u001b[39mread(bs)\n\u001b[1;32m    271\u001b[0m     \u001b[38;5;28;01mif\u001b[39;00m \u001b[38;5;129;01mnot\u001b[39;00m block:\n\u001b[1;32m    272\u001b[0m         \u001b[38;5;28;01mbreak\u001b[39;00m\n",
      "File \u001b[0;32m~/anaconda3/lib/python3.11/tempfile.py:483\u001b[0m, in \u001b[0;36m_TemporaryFileWrapper.__getattr__.<locals>.func_wrapper\u001b[0;34m(*args, **kwargs)\u001b[0m\n\u001b[1;32m    481\u001b[0m \u001b[38;5;129m@_functools\u001b[39m\u001b[38;5;241m.\u001b[39mwraps(func)\n\u001b[1;32m    482\u001b[0m \u001b[38;5;28;01mdef\u001b[39;00m \u001b[38;5;21mfunc_wrapper\u001b[39m(\u001b[38;5;241m*\u001b[39margs, \u001b[38;5;241m*\u001b[39m\u001b[38;5;241m*\u001b[39mkwargs):\n\u001b[0;32m--> 483\u001b[0m     \u001b[38;5;28;01mreturn\u001b[39;00m func(\u001b[38;5;241m*\u001b[39margs, \u001b[38;5;241m*\u001b[39m\u001b[38;5;241m*\u001b[39mkwargs)\n",
      "File \u001b[0;32m~/anaconda3/lib/python3.11/tempfile.py:483\u001b[0m, in \u001b[0;36m_TemporaryFileWrapper.__getattr__.<locals>.func_wrapper\u001b[0;34m(*args, **kwargs)\u001b[0m\n\u001b[1;32m    481\u001b[0m \u001b[38;5;129m@_functools\u001b[39m\u001b[38;5;241m.\u001b[39mwraps(func)\n\u001b[1;32m    482\u001b[0m \u001b[38;5;28;01mdef\u001b[39;00m \u001b[38;5;21mfunc_wrapper\u001b[39m(\u001b[38;5;241m*\u001b[39margs, \u001b[38;5;241m*\u001b[39m\u001b[38;5;241m*\u001b[39mkwargs):\n\u001b[0;32m--> 483\u001b[0m     \u001b[38;5;28;01mreturn\u001b[39;00m func(\u001b[38;5;241m*\u001b[39margs, \u001b[38;5;241m*\u001b[39m\u001b[38;5;241m*\u001b[39mkwargs)\n",
      "File \u001b[0;32m~/anaconda3/lib/python3.11/socket.py:706\u001b[0m, in \u001b[0;36mSocketIO.readinto\u001b[0;34m(self, b)\u001b[0m\n\u001b[1;32m    704\u001b[0m \u001b[38;5;28;01mwhile\u001b[39;00m \u001b[38;5;28;01mTrue\u001b[39;00m:\n\u001b[1;32m    705\u001b[0m     \u001b[38;5;28;01mtry\u001b[39;00m:\n\u001b[0;32m--> 706\u001b[0m         \u001b[38;5;28;01mreturn\u001b[39;00m \u001b[38;5;28mself\u001b[39m\u001b[38;5;241m.\u001b[39m_sock\u001b[38;5;241m.\u001b[39mrecv_into(b)\n\u001b[1;32m    707\u001b[0m     \u001b[38;5;28;01mexcept\u001b[39;00m timeout:\n\u001b[1;32m    708\u001b[0m         \u001b[38;5;28mself\u001b[39m\u001b[38;5;241m.\u001b[39m_timeout_occurred \u001b[38;5;241m=\u001b[39m \u001b[38;5;28;01mTrue\u001b[39;00m\n",
      "\u001b[0;31mKeyboardInterrupt\u001b[0m: "
     ]
    }
   ],
   "source": [
    "# percorrer todos os estados \n",
    "ufs = [\n",
    "    'AC', 'AL', 'AP', 'AM', 'BA', \n",
    "    'CE', 'DF', 'ES', 'GO', 'MA', \n",
    "    'MT', 'MS', 'MG', 'PA', 'PB', \n",
    "    'PR', 'PE', 'PI', 'RJ', 'RN', \n",
    "    'RS', 'RO', 'RR', 'SC', 'SP', \n",
    "    'SE', 'TO'\n",
    "]\n",
    "\n",
    "datas = ['2024-01-01']\n",
    "\n",
    "collector = Collector()\n",
    "\n",
    "# response = collector.get_rdt()\n",
    "\n",
    "for uf in ufs:\n",
    "    response = collector.get_data_uf(uf, datas)\n",
    "\n",
    "response"
   ]
  }
 ],
 "metadata": {
  "kernelspec": {
   "display_name": "base",
   "language": "python",
   "name": "python3"
  },
  "language_info": {
   "codemirror_mode": {
    "name": "ipython",
    "version": 3
   },
   "file_extension": ".py",
   "mimetype": "text/x-python",
   "name": "python",
   "nbconvert_exporter": "python",
   "pygments_lexer": "ipython3",
   "version": "3.11.7"
  }
 },
 "nbformat": 4,
 "nbformat_minor": 2
}
